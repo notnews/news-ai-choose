{
  "nbformat": 4,
  "nbformat_minor": 0,
  "metadata": {
    "colab": {
      "name": "baseline_sentiment_analysis.ipynb",
      "provenance": [],
      "collapsed_sections": []
    },
    "kernelspec": {
      "name": "python3",
      "display_name": "Python 3"
    },
    "language_info": {
      "name": "python"
    }
  },
  "cells": [
    {
      "cell_type": "markdown",
      "metadata": {
        "id": "Ei6qtWULEfRb"
      },
      "source": [
        "# Baseline sentiment analysis\n",
        "goal of this nb is to baseline how well we can predict sentiment for news articles using simple scikit learn libraries - this is to make the argument that we should not use neural nets for this purpose\n",
        "\n",
        "heavily inspired by https://towardsdatascience.com/sentiment-analysis-with-python-part-2-4f71e7bde59a"
      ]
    },
    {
      "cell_type": "code",
      "metadata": {
        "id": "3fArBPBC4RH_"
      },
      "source": [
        "import nltk\n",
        "from nltk.corpus import stopwords\n",
        "import pandas as pd"
      ],
      "execution_count": null,
      "outputs": []
    },
    {
      "cell_type": "code",
      "metadata": {
        "id": "hIM8_a_n42D9"
      },
      "source": [
        "df = pd.read_csv(\"simple_twitter_dataset.csv\")\n",
        "df.columns =  columns=[\"label\", \"text\"]\n",
        "# df[\"label\"].replace({4: 3}, inplace=True)"
      ],
      "execution_count": null,
      "outputs": []
    },
    {
      "cell_type": "code",
      "metadata": {
        "colab": {
          "base_uri": "https://localhost:8080/"
        },
        "id": "aT1JXyLZWWpv",
        "outputId": "2793bae5-574f-4aae-8a60-7dc562ba738a"
      },
      "source": [
        "df[\"label\"].unique()"
      ],
      "execution_count": null,
      "outputs": [
        {
          "output_type": "execute_result",
          "data": {
            "text/plain": [
              "array([0, 4])"
            ]
          },
          "metadata": {},
          "execution_count": 28
        }
      ]
    },
    {
      "cell_type": "code",
      "metadata": {
        "colab": {
          "base_uri": "https://localhost:8080/"
        },
        "id": "PvY2hHQ_49Vy",
        "outputId": "01cb8194-1229-42bb-c74f-3c643b9f3269"
      },
      "source": [
        "nltk.download('stopwords')\n",
        "english_stop_words = stopwords.words('english')"
      ],
      "execution_count": null,
      "outputs": [
        {
          "output_type": "stream",
          "text": [
            "[nltk_data] Downloading package stopwords to /root/nltk_data...\n",
            "[nltk_data]   Package stopwords is already up-to-date!\n"
          ],
          "name": "stdout"
        }
      ]
    },
    {
      "cell_type": "code",
      "metadata": {
        "id": "oghXSKba6h-b"
      },
      "source": [
        "import re\n",
        "\n",
        "def preprocess_review(review):\n",
        "  REPLACE_NO_SPACE = re.compile(\"[.;:!\\'?,\\\"()\\[\\]]\")\n",
        "  REPLACE_WITH_SPACE = re.compile(\"(<br\\s*/><br\\s*/>)|(\\-)|(\\/)\")\n",
        "  clean_review = REPLACE_NO_SPACE.sub(\"\", review.lower())\n",
        "  clean_review = REPLACE_WITH_SPACE.sub(\" \", review)\n",
        "    \n",
        "  return clean_review"
      ],
      "execution_count": null,
      "outputs": []
    },
    {
      "cell_type": "code",
      "metadata": {
        "id": "tMGFlWmq5C9Y"
      },
      "source": [
        "def remove_stop_words(review):\n",
        "  return ' '.join([word for word in review.split() if word not in english_stop_words])"
      ],
      "execution_count": null,
      "outputs": []
    },
    {
      "cell_type": "code",
      "metadata": {
        "id": "1gcSK8cI5tYm"
      },
      "source": [
        "df[\"cleaned_text\"] = df[\"text\"].apply(lambda x: preprocess_review(x))\n",
        "df[\"cleaned_text\"] = df[\"cleaned_text\"].apply(lambda x: remove_stop_words(x))"
      ],
      "execution_count": null,
      "outputs": []
    },
    {
      "cell_type": "code",
      "metadata": {
        "colab": {
          "base_uri": "https://localhost:8080/"
        },
        "id": "BugGuxOh7KSX",
        "outputId": "bd0e98bc-5b8a-4269-bc2d-f6fb092bcd3a"
      },
      "source": [
        "print(df[\"cleaned_text\"].iloc[1])\n",
        "print(df[\"text\"].iloc[1])\n"
      ],
      "execution_count": null,
      "outputs": [
        {
          "output_type": "stream",
          "text": [
            "@Kenichan I dived many times ball. Managed save 50% The rest go bounds\n",
            "@Kenichan I dived many times for the ball. Managed to save 50%  The rest go out of bounds\n"
          ],
          "name": "stdout"
        }
      ]
    },
    {
      "cell_type": "code",
      "metadata": {
        "id": "mnPU3r0B7a0_"
      },
      "source": [
        "from sklearn.feature_extraction.text import CountVectorizer\n",
        "from sklearn.linear_model import LogisticRegression\n",
        "from sklearn.metrics import accuracy_score\n",
        "from sklearn.model_selection import train_test_split\n",
        "\n",
        "ngram_vectorizer = CountVectorizer(binary=True, ngram_range=(1, 2))\n",
        "ngram_vectorizer.fit(df[\"cleaned_text\"])\n",
        "X = ngram_vectorizer.transform(df[\"cleaned_text\"])\n",
        "X_test = ngram_vectorizer.transform(df[\"cleaned_text\"])\n",
        "target = df[\"label\"]\n",
        "\n",
        "X_train, X_val, y_train, y_val = train_test_split(\n",
        "    X, target, train_size=0.75\n",
        ")\n",
        "\n",
        "# for c in [0.01, 0.05, 0.25, 0.5, 1]:\n",
        "#   lr = LogisticRegression(C=c)\n",
        "#   lr.fit(X_train, y_train)\n",
        "#   acc = accuracy_score(y_val, lr.predict(X_val))\n",
        "#   print(f\"Accuracy for C={c} is {acc}\")\n"
      ],
      "execution_count": null,
      "outputs": []
    },
    {
      "cell_type": "code",
      "metadata": {
        "colab": {
          "base_uri": "https://localhost:8080/"
        },
        "id": "wfl8_zR0F2oP",
        "outputId": "a1603aad-18af-469d-f349-8c8397ecb4c3"
      },
      "source": [
        "final_ngram = LogisticRegression(C=0.5)\n",
        "final_ngram.fit(X, target)"
      ],
      "execution_count": null,
      "outputs": [
        {
          "output_type": "stream",
          "text": [
            "/usr/local/lib/python3.7/dist-packages/sklearn/linear_model/_logistic.py:940: ConvergenceWarning: lbfgs failed to converge (status=1):\n",
            "STOP: TOTAL NO. of ITERATIONS REACHED LIMIT.\n",
            "\n",
            "Increase the number of iterations (max_iter) or scale the data as shown in:\n",
            "    https://scikit-learn.org/stable/modules/preprocessing.html\n",
            "Please also refer to the documentation for alternative solver options:\n",
            "    https://scikit-learn.org/stable/modules/linear_model.html#logistic-regression\n",
            "  extra_warning_msg=_LOGISTIC_SOLVER_CONVERGENCE_MSG)\n"
          ],
          "name": "stderr"
        },
        {
          "output_type": "execute_result",
          "data": {
            "text/plain": [
              "LogisticRegression(C=0.5, class_weight=None, dual=False, fit_intercept=True,\n",
              "                   intercept_scaling=1, l1_ratio=None, max_iter=100,\n",
              "                   multi_class='auto', n_jobs=None, penalty='l2',\n",
              "                   random_state=None, solver='lbfgs', tol=0.0001, verbose=0,\n",
              "                   warm_start=False)"
            ]
          },
          "metadata": {},
          "execution_count": 35
        }
      ]
    },
    {
      "cell_type": "code",
      "metadata": {
        "colab": {
          "base_uri": "https://localhost:8080/"
        },
        "id": "mMe5NdWv4QrB",
        "outputId": "a4fde4eb-7236-4079-dd27-f1b0ee87ea0e"
      },
      "source": [
        "accuracy_score(y_val, final_ngram.predict(X_val))"
      ],
      "execution_count": null,
      "outputs": [
        {
          "output_type": "execute_result",
          "data": {
            "text/plain": [
              "0.9169075"
            ]
          },
          "metadata": {},
          "execution_count": 36
        }
      ]
    },
    {
      "cell_type": "code",
      "metadata": {
        "id": "XcVyQ0cSWEcF"
      },
      "source": [
        "import pickle\n",
        "pickle.dump(final_ngram, open(\"/content/lr_model.pkl\", \"wb\"))"
      ],
      "execution_count": null,
      "outputs": []
    },
    {
      "cell_type": "code",
      "metadata": {
        "id": "fpcelar3YeTz"
      },
      "source": [
        "pickle.dump(ngram_vectorizer, open(\"/content/ngram_vectorizer.pkl\", \"wb\"))"
      ],
      "execution_count": null,
      "outputs": []
    },
    {
      "cell_type": "code",
      "metadata": {
        "id": "PAel8vacZ9RC"
      },
      "source": [
        "pickle.dump(english_stop_words, open(\"/content/english_stop_words.pkl\", \"wb\"))"
      ],
      "execution_count": null,
      "outputs": []
    },
    {
      "cell_type": "code",
      "metadata": {
        "id": "z5BJtcHI9Jgc"
      },
      "source": [
        "def predict_sentiment(text, model, vectorizer):\n",
        "  text = preprocess_review(text)\n",
        "  text = remove_stop_words(text)\n",
        "  # import pdb; pdb.set_trace()\n",
        "  txt_vec = vectorizer.transform([text])\n",
        "  print(\"probabilities: \")\n",
        "  print(model.predict_proba(txt_vec))\n",
        "  return model.predict(txt_vec)\n",
        "  "
      ],
      "execution_count": null,
      "outputs": []
    },
    {
      "cell_type": "code",
      "metadata": {
        "colab": {
          "base_uri": "https://localhost:8080/"
        },
        "id": "N-ZNc0ap_IdP",
        "outputId": "72417570-49ec-4ed6-fb55-167b4bc68775"
      },
      "source": [
        "predict_sentiment(\" no probs kazz hun,i think theres a new one going on now celebrity twitterer or summat? lol dunno?i just voted misha anyways \", final_ngram, ngram_vectorizer)"
      ],
      "execution_count": null,
      "outputs": [
        {
          "output_type": "stream",
          "text": [
            "probabilities: \n",
            "[[0.06373249 0.93626751]]\n"
          ],
          "name": "stdout"
        },
        {
          "output_type": "execute_result",
          "data": {
            "text/plain": [
              "array([4])"
            ]
          },
          "metadata": {
            "tags": []
          },
          "execution_count": 35
        }
      ]
    },
    {
      "cell_type": "markdown",
      "metadata": {
        "id": "P0Pm-agdAjLE"
      },
      "source": [
        "# Let's try the same thing out with some news articles"
      ]
    },
    {
      "cell_type": "code",
      "metadata": {
        "id": "X3hdDmf_Ai6p"
      },
      "source": [
        "df_news = pd.read_csv(\"/content/SampleLabelledArticles_AWS_Comprehend.csv\")"
      ],
      "execution_count": null,
      "outputs": []
    },
    {
      "cell_type": "code",
      "metadata": {
        "colab": {
          "base_uri": "https://localhost:8080/"
        },
        "id": "3gHAOUg4BO0g",
        "outputId": "824c0bf2-1a27-4dab-cf26-35920cdf1014"
      },
      "source": [
        "df_news[\"Sentiment\"].unique()"
      ],
      "execution_count": null,
      "outputs": [
        {
          "output_type": "execute_result",
          "data": {
            "text/plain": [
              "array(['NEUTRAL', 'MIXED', 'POSITIVE', 'NEGATIVE'], dtype=object)"
            ]
          },
          "metadata": {
            "tags": []
          },
          "execution_count": 45
        }
      ]
    },
    {
      "cell_type": "code",
      "metadata": {
        "id": "60KqFBBK_TBU"
      },
      "source": [
        "df_news = df_news[[\"Body\", \"Sentiment\"]]\n",
        "df_news[\"Sentiment\"].replace({'NEUTRAL': 2, 'MIXED': 1, 'POSITIVE': 3, 'NEGATIVE': 0}, inplace=True)"
      ],
      "execution_count": null,
      "outputs": []
    },
    {
      "cell_type": "code",
      "metadata": {
        "colab": {
          "base_uri": "https://localhost:8080/"
        },
        "id": "47SMqV64BZ_p",
        "outputId": "6fb0ef57-44d4-4794-cf73-294eedc77b4e"
      },
      "source": [
        "article = df_news[\"Body\"].iloc[0]\n",
        "print(article)\n",
        "# predict_sentiment(article, ngram_vectorizer)\n",
        "# it thinks this is overwhelmingly negative"
      ],
      "execution_count": null,
      "outputs": [
        {
          "output_type": "stream",
          "text": [
            "LEAD: IN the agency world there are the conglomerates, as typified by Saatchi & Saatchi and the Interpublic Group of Companies, and the colonial (or branch) networks, like those run by J. Walter Thompson, Young & Rubicam and Foote, Cone & Belding. A more recent phenomenon is what Peter Scott, chief executive of Britain's WCRS IN the agency world there are the conglomerates, as typified by Saatchi & Saatchi and the Interpublic Group of Companies, and the colonial (or branch) networks, like those run by J. Walter Thompson, Young & Rubicam and Foote, Cone & Belding. A more recent phenomenon is what Peter Scott, chief executive of Britain's WCRS Group, describes as a creative federation. His own publicly held company, which has acquired America's Della Femina, Travisano & Partners and HBM/Creamer, is just such an organization. So are two other British agencies - Boase Massimi, which bought New York's Ammirati & Puris, and Lowe Howard Spink & Bell, which now owns Laurence Charles, Free & Lawson. They are medium-sized creative agencies all, he told American agency executives at a meeting of the Western Region of the American Association of Advertising Agencies in Laguna Niguel, Calif. He didn't have to tell his audience that the conglomerates are giants composed of differently named chains or that the networks are single agencies with many far-flung offices. This they already knew. He described conglomerates and colonial networks as ''yesterday's solutions,'' and said his shop and its peer agencies are geared to the concept that ''business but not advertising or creative solutions is becoming global.'' All the talk about global ad campaigns may be fine for Coca-Cola, he said, but there are darn few others that would benefit. His point was that the advertising of most global products requires local solutions. Mr. Scott got to that point in his speech after a first-rate job of explaining the progress of the British agency from a fiefdom subservient to American interests to a booming business that has shaken off its shackles and is buying United States companies left and right. As the American colonists rebelled against the absentee management of the British crown, so the British agency business has rebelled against the absentee management of American international agencies, Mr. Scott said. And with the help of a far healthier economy brought about by Prime Minister Margaret Thatcher, the British advertising community has almost flipped the percentage of billings at the top 20 agencies in Britain from 70 percent in the hands of American agencies to only 40 percent. At the same time, Mr. Scott maintained, there has been a return of creative advertising in the British tradition that was all but stamped out by the introduction of on-site American managers and their promulgation of research-dominated creativity. Came the revolution, and ''the British advertising industry once again came to believe that advertising could be effective without being insipid,'' he said, adding, ''It remembered that advertising could entice, charm, amuse and flatter the consumer and still be effective.'' The management of Mr. Scott's agency, begun in 1979 as Wight Collins Rutherford Scott, realized a few years later that because of British tax laws it had the choice of selling out and giving up ''the identity, independence and entrepreneurial drive that had been snuffed out like a flame in so many good and occasionally great British agencies, or fighting to retain the values and culture that had made the business a success,'' Mr. Scott said. To fight meant to go public. So his agency copied the Saatchis and offered shares to the public. Once public, the management realized that ''no agency - no matter how good, how energetic, how creative - can expect to survive, thrive and prosper as a single profit center business in the long term.'' That led to diversification, to other areas of marketing service in order to escape the threat of client conflict, and ultimately to buying United States agencies and becoming a colonial power. British imperialism once again.\n"
          ],
          "name": "stdout"
        }
      ]
    },
    {
      "cell_type": "code",
      "metadata": {
        "id": "wOGpCvSFCu5v"
      },
      "source": [
        "df_news[\"clean_text\"] = df_news[\"Body\"].apply(lambda x: preprocess_review(x))\n",
        "df_news[\"clean_text\"] = df_news[\"clean_text\"].apply(lambda x: remove_stop_words(x))"
      ],
      "execution_count": null,
      "outputs": []
    },
    {
      "cell_type": "code",
      "metadata": {
        "colab": {
          "base_uri": "https://localhost:8080/"
        },
        "id": "DouzS8ddB2xt",
        "outputId": "a61bb133-09fd-4f80-f303-139f319092e3"
      },
      "source": [
        "ngram_vectorizer_news = CountVectorizer(binary=True, ngram_range=(1, 5))\n",
        "ngram_vectorizer_news.fit(df_news[\"clean_text\"])\n",
        "X = ngram_vectorizer_news.transform(df_news[\"clean_text\"])\n",
        "X_test = ngram_vectorizer_news.transform(df_news[\"clean_text\"])\n",
        "target = df_news[\"Sentiment\"]\n",
        "\n",
        "X_train, X_val, y_train, y_val = train_test_split(\n",
        "    X, target, train_size=0.75\n",
        ")\n",
        "\n",
        "for c in [0.01, 0.05, 0.25, 0.5, 1]:\n",
        "  lr = LogisticRegression(C=c)\n",
        "  lr.fit(X_train, y_train)\n",
        "  acc = accuracy_score(y_val, lr.predict(X_val))\n",
        "  print(f\"Accuracy for C={c} is {acc}\")\n"
      ],
      "execution_count": null,
      "outputs": [
        {
          "output_type": "stream",
          "text": [
            "Accuracy for C=0.01 is 0.8488372093023255\n",
            "Accuracy for C=0.05 is 0.8488372093023255\n",
            "Accuracy for C=0.25 is 0.8488372093023255\n",
            "Accuracy for C=0.5 is 0.8488372093023255\n",
            "Accuracy for C=1 is 0.8488372093023255\n"
          ],
          "name": "stdout"
        }
      ]
    },
    {
      "cell_type": "code",
      "metadata": {
        "colab": {
          "base_uri": "https://localhost:8080/"
        },
        "id": "mCWxF85lB-1n",
        "outputId": "2d9f2346-0beb-4cd2-ed17-7aa54a9bdc7c"
      },
      "source": [
        "final_ngram = LogisticRegression(C=0.5)\n",
        "final_ngram.fit(X, target)"
      ],
      "execution_count": null,
      "outputs": [
        {
          "output_type": "execute_result",
          "data": {
            "text/plain": [
              "LogisticRegression(C=0.5, class_weight=None, dual=False, fit_intercept=True,\n",
              "                   intercept_scaling=1, l1_ratio=None, max_iter=100,\n",
              "                   multi_class='auto', n_jobs=None, penalty='l2',\n",
              "                   random_state=None, solver='lbfgs', tol=0.0001, verbose=0,\n",
              "                   warm_start=False)"
            ]
          },
          "metadata": {
            "tags": []
          },
          "execution_count": 195
        }
      ]
    },
    {
      "cell_type": "code",
      "metadata": {
        "id": "k0I7tgS8GTdD"
      },
      "source": [
        "!pip install newspaper3k"
      ],
      "execution_count": null,
      "outputs": []
    },
    {
      "cell_type": "code",
      "metadata": {
        "id": "eEjvttJL67wa"
      },
      "source": [
        "from newspaper import Article\n",
        "url = \"https://www.nytimes.com/2021/08/08/opinion/anti-vaccine-america.html\"\n",
        "article = Article(url)\n",
        "article.download()\n",
        "article.parse()"
      ],
      "execution_count": null,
      "outputs": []
    },
    {
      "cell_type": "code",
      "metadata": {
        "colab": {
          "base_uri": "https://localhost:8080/",
          "height": 103
        },
        "id": "tZGEOqCg8346",
        "outputId": "2b1d9794-0d6e-4905-d3a4-dce0e58e17b4"
      },
      "source": [
        "article.text"
      ],
      "execution_count": null,
      "outputs": [
        {
          "output_type": "execute_result",
          "data": {
            "application/vnd.google.colaboratory.intrinsic+json": {
              "type": "string"
            },
            "text/plain": [
              "'The vaccine is safe, incredibly safe.\\n\\nThere are no microchips or magnets in it. It does not cause Covid and it is not more dangerous than Covid.\\n\\nBelieving all these lies is a luxury of people who have not sat by a hospital bedside, or watched from behind glass, because Covid regulations prevented them from comforting a relative or friend as they drew their last breath, struggling against a virus that choked that breath off.\\n\\nIt is a luxury to be irresponsible in a society where others will be responsible for you, where you simply assume that you are safer because others take the appropriate precautions to be safe: You do not need to get the shot because others have.\\n\\nBut the Delta variant is testing that faith.\\n\\nYou will not be safe as an unvaccinated person riding on the coattails of the vaccinated. Delta is extremely transmissible and unremitting. It is stronger than its progenitor.\\n\\nAs the Delta variant surges there is an uptick in the pace of vaccinations in the country. It’s almost like religion: Many disbelievers will call out to whatever God there may be when the reaper is at the door. Fear of ideological defeat is no match for the fear of imminent death. And yet, it shouldn’t have taken another surge of sickness and death for good sense to set in.\\n\\nWhy were Americans turning away a vaccine that many people in other parts of the world were literally dying for? Many did so because of their fidelity to the lie and their fidelity to the liar. They did it because they were — and still are — slavishly devoted to Trump, and because many politicians and conservative commentators helped Trump propagate his lies.\\n\\nA recent Monmouth University poll found that “among those who admit they will not get the vaccine if they can avoid it, 70 percent either identify with or lean toward the Republican Party while just 6 percent align with the Democrats.”'"
            ]
          },
          "metadata": {
            "tags": []
          },
          "execution_count": 61
        }
      ]
    },
    {
      "cell_type": "code",
      "metadata": {
        "colab": {
          "base_uri": "https://localhost:8080/"
        },
        "id": "K_ItjyUl7Q8x",
        "outputId": "a7f9cf84-b674-4fe0-f5ec-a1745cd5f968"
      },
      "source": [
        "predict_sentiment(article.text, final_ngram, ngram_vectorizer)"
      ],
      "execution_count": null,
      "outputs": [
        {
          "output_type": "stream",
          "text": [
            "probabilities: \n",
            "[[0.9981418 0.0018582]]\n"
          ],
          "name": "stdout"
        },
        {
          "output_type": "execute_result",
          "data": {
            "text/plain": [
              "array([0])"
            ]
          },
          "metadata": {
            "tags": []
          },
          "execution_count": 62
        }
      ]
    },
    {
      "cell_type": "markdown",
      "metadata": {
        "id": "6fSAyGsi-G9S"
      },
      "source": [
        "# Try combining the two datasets"
      ]
    },
    {
      "cell_type": "code",
      "metadata": {
        "colab": {
          "base_uri": "https://localhost:8080/",
          "height": 203
        },
        "id": "4KNyaOLl-I9o",
        "outputId": "5d916386-5093-448e-d30d-92c187d57689"
      },
      "source": [
        "df_news.columns = [\"body\", \"label\", \"text\"]\n",
        "df_news.head()"
      ],
      "execution_count": null,
      "outputs": [
        {
          "output_type": "execute_result",
          "data": {
            "text/html": [
              "<div>\n",
              "<style scoped>\n",
              "    .dataframe tbody tr th:only-of-type {\n",
              "        vertical-align: middle;\n",
              "    }\n",
              "\n",
              "    .dataframe tbody tr th {\n",
              "        vertical-align: top;\n",
              "    }\n",
              "\n",
              "    .dataframe thead th {\n",
              "        text-align: right;\n",
              "    }\n",
              "</style>\n",
              "<table border=\"1\" class=\"dataframe\">\n",
              "  <thead>\n",
              "    <tr style=\"text-align: right;\">\n",
              "      <th></th>\n",
              "      <th>body</th>\n",
              "      <th>label</th>\n",
              "      <th>text</th>\n",
              "    </tr>\n",
              "  </thead>\n",
              "  <tbody>\n",
              "    <tr>\n",
              "      <th>0</th>\n",
              "      <td>LEAD: IN the agency world there are the conglo...</td>\n",
              "      <td>2</td>\n",
              "      <td>LEAD: IN agency world conglomerates, typified ...</td>\n",
              "    </tr>\n",
              "    <tr>\n",
              "      <th>1</th>\n",
              "      <td>LEAD: System Energy Resources Inc., a unit of ...</td>\n",
              "      <td>2</td>\n",
              "      <td>LEAD: System Energy Resources Inc., unit Middl...</td>\n",
              "    </tr>\n",
              "    <tr>\n",
              "      <th>2</th>\n",
              "      <td>LEAD: *3*** COMPANY REPORTS ** *3*FHP INTERNAT...</td>\n",
              "      <td>2</td>\n",
              "      <td>LEAD: *3*** COMPANY REPORTS ** *3*FHP INTERNAT...</td>\n",
              "    </tr>\n",
              "    <tr>\n",
              "      <th>3</th>\n",
              "      <td>LEAD: *3*** COMPANY REPORTS ** *3*GROWTH VENTU...</td>\n",
              "      <td>2</td>\n",
              "      <td>LEAD: *3*** COMPANY REPORTS ** *3*GROWTH VENTU...</td>\n",
              "    </tr>\n",
              "    <tr>\n",
              "      <th>4</th>\n",
              "      <td>LEAD: Claire F. O'Brien, a lawyer, and Timothy...</td>\n",
              "      <td>2</td>\n",
              "      <td>LEAD: Claire F. O'Brien, lawyer, Timothy Josep...</td>\n",
              "    </tr>\n",
              "  </tbody>\n",
              "</table>\n",
              "</div>"
            ],
            "text/plain": [
              "                                                body  ...                                               text\n",
              "0  LEAD: IN the agency world there are the conglo...  ...  LEAD: IN agency world conglomerates, typified ...\n",
              "1  LEAD: System Energy Resources Inc., a unit of ...  ...  LEAD: System Energy Resources Inc., unit Middl...\n",
              "2  LEAD: *3*** COMPANY REPORTS ** *3*FHP INTERNAT...  ...  LEAD: *3*** COMPANY REPORTS ** *3*FHP INTERNAT...\n",
              "3  LEAD: *3*** COMPANY REPORTS ** *3*GROWTH VENTU...  ...  LEAD: *3*** COMPANY REPORTS ** *3*GROWTH VENTU...\n",
              "4  LEAD: Claire F. O'Brien, a lawyer, and Timothy...  ...  LEAD: Claire F. O'Brien, lawyer, Timothy Josep...\n",
              "\n",
              "[5 rows x 3 columns]"
            ]
          },
          "metadata": {
            "tags": []
          },
          "execution_count": 51
        }
      ]
    },
    {
      "cell_type": "code",
      "metadata": {
        "id": "6NdLVlqL-fMD"
      },
      "source": [
        "tweets_and_news = pd.concat([df, df_news[[\"label\", \"text\"]]])"
      ],
      "execution_count": null,
      "outputs": []
    },
    {
      "cell_type": "code",
      "metadata": {
        "colab": {
          "base_uri": "https://localhost:8080/",
          "height": 330
        },
        "id": "B0yWuAzx-xnH",
        "outputId": "02aba499-b6d6-4bf1-9efe-a18b8bc367ad"
      },
      "source": [
        "ngram_vectorizer_news = CountVectorizer(binary=True, ngram_range=(1, 2))\n",
        "ngram_vectorizer_news.fit(tweets_and_news[\"text\"])\n",
        "X = ngram_vectorizer_news.transform(tweets_and_news[\"text\"])\n",
        "X_test = ngram_vectorizer_news.transform(tweets_and_news[\"text\"])\n",
        "target = tweets_and_news[\"label\"]\n",
        "\n",
        "X_train, X_val, y_train, y_val = train_test_split(\n",
        "    X, target, train_size=0.75\n",
        ")\n",
        "\n",
        "\n",
        "lr = LogisticRegression(C=0.5)\n",
        "lr.fit(X_train, y_train)\n",
        "acc = accuracy_score(y_val, lr.predict(X_val))\n",
        "# print(f\"Accuracy for C={c} is {acc}\")\n"
      ],
      "execution_count": null,
      "outputs": [
        {
          "output_type": "stream",
          "text": [
            "/usr/local/lib/python3.7/dist-packages/sklearn/linear_model/_logistic.py:940: ConvergenceWarning: lbfgs failed to converge (status=1):\n",
            "STOP: TOTAL NO. of ITERATIONS REACHED LIMIT.\n",
            "\n",
            "Increase the number of iterations (max_iter) or scale the data as shown in:\n",
            "    https://scikit-learn.org/stable/modules/preprocessing.html\n",
            "Please also refer to the documentation for alternative solver options:\n",
            "    https://scikit-learn.org/stable/modules/linear_model.html#logistic-regression\n",
            "  extra_warning_msg=_LOGISTIC_SOLVER_CONVERGENCE_MSG)\n"
          ],
          "name": "stderr"
        },
        {
          "output_type": "error",
          "ename": "NameError",
          "evalue": "ignored",
          "traceback": [
            "\u001b[0;31m---------------------------------------------------------------------------\u001b[0m",
            "\u001b[0;31mNameError\u001b[0m                                 Traceback (most recent call last)",
            "\u001b[0;32m<ipython-input-54-9ac07d8da0e2>\u001b[0m in \u001b[0;36m<module>\u001b[0;34m()\u001b[0m\n\u001b[1;32m     13\u001b[0m \u001b[0mlr\u001b[0m\u001b[0;34m.\u001b[0m\u001b[0mfit\u001b[0m\u001b[0;34m(\u001b[0m\u001b[0mX_train\u001b[0m\u001b[0;34m,\u001b[0m \u001b[0my_train\u001b[0m\u001b[0;34m)\u001b[0m\u001b[0;34m\u001b[0m\u001b[0;34m\u001b[0m\u001b[0m\n\u001b[1;32m     14\u001b[0m \u001b[0macc\u001b[0m \u001b[0;34m=\u001b[0m \u001b[0maccuracy_score\u001b[0m\u001b[0;34m(\u001b[0m\u001b[0my_val\u001b[0m\u001b[0;34m,\u001b[0m \u001b[0mlr\u001b[0m\u001b[0;34m.\u001b[0m\u001b[0mpredict\u001b[0m\u001b[0;34m(\u001b[0m\u001b[0mX_val\u001b[0m\u001b[0;34m)\u001b[0m\u001b[0;34m)\u001b[0m\u001b[0;34m\u001b[0m\u001b[0;34m\u001b[0m\u001b[0m\n\u001b[0;32m---> 15\u001b[0;31m \u001b[0mprint\u001b[0m\u001b[0;34m(\u001b[0m\u001b[0;34mf\"Accuracy for C={c} is {acc}\"\u001b[0m\u001b[0;34m)\u001b[0m\u001b[0;34m\u001b[0m\u001b[0;34m\u001b[0m\u001b[0m\n\u001b[0m",
            "\u001b[0;31mNameError\u001b[0m: name 'c' is not defined"
          ]
        }
      ]
    },
    {
      "cell_type": "code",
      "metadata": {
        "colab": {
          "base_uri": "https://localhost:8080/"
        },
        "id": "cHNQ8k9YA5Z1",
        "outputId": "ec117a0e-18f9-4fea-97ac-36a841d59a09"
      },
      "source": [
        "accuracy_score(y_val, lr.predict(X_val))"
      ],
      "execution_count": null,
      "outputs": [
        {
          "output_type": "execute_result",
          "data": {
            "text/plain": [
              "0.8163593963786715"
            ]
          },
          "metadata": {
            "tags": []
          },
          "execution_count": 55
        }
      ]
    },
    {
      "cell_type": "code",
      "metadata": {
        "colab": {
          "base_uri": "https://localhost:8080/"
        },
        "id": "11E_cvZgDbYk",
        "outputId": "2a5eddf7-ae9d-436b-f0b0-b5b77d0ee217"
      },
      "source": [
        "predict_sentiment(article.text, lr, ngram_vectorizer_news)"
      ],
      "execution_count": null,
      "outputs": [
        {
          "output_type": "stream",
          "text": [
            "probabilities: \n",
            "[[9.99963612e-01 1.29610314e-09 4.07060749e-10 3.63867019e-05]]\n"
          ],
          "name": "stdout"
        },
        {
          "output_type": "execute_result",
          "data": {
            "text/plain": [
              "array([0])"
            ]
          },
          "metadata": {
            "tags": []
          },
          "execution_count": 63
        }
      ]
    },
    {
      "cell_type": "code",
      "metadata": {
        "id": "5vovFS-vEJv1"
      },
      "source": [
        "article = Article(\"https://www.nytimes.com/2021/08/07/opinion/sunday/covid-unvaccinated-anger.html?action=click&module=RelatedLinks&pgtype=Article\")\n",
        "article.download()\n",
        "article.parse()"
      ],
      "execution_count": null,
      "outputs": []
    },
    {
      "cell_type": "code",
      "metadata": {
        "colab": {
          "base_uri": "https://localhost:8080/"
        },
        "id": "Gju3NxpXEN1g",
        "outputId": "3a3ef8aa-c74c-4e20-d270-77bc132c61ea"
      },
      "source": [
        "print(article.text)\n",
        "predict_sentiment(article.text, lr, ngram_vectorizer_news)"
      ],
      "execution_count": null,
      "outputs": [
        {
          "output_type": "stream",
          "text": [
            "This archetypal bumpkin villain of post-Trump America has long received too much credit in a country where Trumpism thrives in affluent, white urban communities bursting with college degrees. In handling the pandemic, such misdirection of attention keeps us from what we should be doing: trying to reach the vast group of people who might choose vaccination if barriers to access and knowledge were removed.\n",
            "\n",
            "*\n",
            "\n",
            "One overlooked barrier, as ever in this country, is socioeconomic class. Polls conducted by the Kaiser Family Foundation earlier this year found that working-class people — white, Black, Hispanic, Democrat, Republican — were less likely to be vaccinated. Vaccination rates for Black and white college graduates, meanwhile, were almost identical. The so-called “uneducated” of all races and backgrounds are hampered not by a lack of good sense but by a lack of money and power. Their education status keeps their income low, and income predicts insurance status. When the highly contagious Delta variant was taking hold, uninsured Americans had the lowest vaccination rate of 22 subgroups examined by Kaiser.\n",
            "\n",
            "Having gone without health insurance for much of my life, I can attest that the experience does not promote trust in the health care system, better known to the uninsured as a crippling source of debt than a helpful provider of cures. The Center for Economic and Policy Research found that states with higher rates of insured people generally have higher vaccination rates. People of color are disproportionately uninsured, as conditions of class — poverty and lack of education — intersect with systemic racism. Nonetheless, myriad news stories investigating the vaccination divide fail to mention the words class, education or income once.\n",
            "\n",
            "The longer we spend furious at the bad actors among us, the further we move from the truth: That many unvaccinated people are scared just like us, and that with the right help and information, they would sit down next to nurses and pull up their sleeves. We must instead turn our anger into actions that help our cause.\n",
            "\n",
            "We can demand public-health mandates, political blowback be damned. We can communicate with the cost-anxious and wait-and-see people who remain open-minded despite skepticism wrought by a lifetime of disadvantage. We can do good deeds to negate harmful ones, like donating money to a nonprofit health clinic when we see anti-science protesters on the sidewalk or in the news. We can also, in my opinion, occasionally tell those protesters to screw off, if it gets us to our next moment of grace. (I didn’t say I was enlightened.)\n",
            "\n",
            "Most importantly, we can direct our rage not at lost individuals but at systems of power that made our grim national death count the only plausible outcome. Is it so shocking that a caste-based society that exalts individualism and prioritizes profit above wellness — one of the only industrialized nations without universal health care — would fail to rise to the challenges of a collective health crisis?\n",
            "\n",
            "Despite our failings of national character, Americans were the fortunate few at the front of an eight-billion-person line, saved by stockpiles of quickly developed vaccines that poor countries around the world have struggled to access. We were among the first of our entire species invited to receive a tremendous feat of modern science into our blood — a choice that hundreds of thousands of Covid-19 victims, who died before vaccines were available to them, did not live to make. Those of us who get the vaccines, current data tells us, will almost certainly survive this pandemic and even a lifetime of seasonal, endemic Covid-19 outbreaks.\n",
            "probabilities: \n",
            "[[1.47418209e-04 2.69738383e-05 9.99825608e-01 4.00936902e-10]]\n"
          ],
          "name": "stdout"
        },
        {
          "output_type": "execute_result",
          "data": {
            "text/plain": [
              "array([2])"
            ]
          },
          "metadata": {
            "tags": []
          },
          "execution_count": 65
        }
      ]
    },
    {
      "cell_type": "code",
      "metadata": {
        "id": "S3HsazdAFkkg"
      },
      "source": [
        "import pickle\n",
        "pickle.dump(lr, open(\"/content/lr_model.weights\", \"wb\"))"
      ],
      "execution_count": null,
      "outputs": []
    },
    {
      "cell_type": "markdown",
      "metadata": {
        "id": "Kv6Q89aVBeRo"
      },
      "source": [
        "## Further baseline by just looking for positive/negative words\n",
        "Here we read in a lexicon of positive/negatively labelled words that are stored in `sentiment_lookup` in order to baseline against using a `LogisticRegression` model. We appear to outperform this baseline by about 3 percentage points."
      ]
    },
    {
      "cell_type": "code",
      "metadata": {
        "id": "NFimlgLUBhVl"
      },
      "source": [
        "# subjectivity lexicon taken from http://mpqa.cs.pitt.edu/lexicons/subj_lexicon/\n",
        "sentiment_lookup = {}\n",
        "with open(\"./subjclueslen1-HLTEMNLP05.tff\", \"r\") as f:\n",
        "  lines = f.readlines()\n",
        "  for line in lines:\n",
        "    words = line.split()\n",
        "    sentiment_word = words[2].replace(\"word1=\", \"\")\n",
        "    sentiment_of_word = words[5].replace(\"priorpolarity=\", \"\")\n",
        "    sentiment_lookup[sentiment_word] = 1 if sentiment_of_word == \"positive\" else -1"
      ],
      "execution_count": null,
      "outputs": []
    },
    {
      "cell_type": "code",
      "metadata": {
        "id": "bxn_NoVlDfDf"
      },
      "source": [
        "import numpy as np\n",
        "doc=['i', 'really', 'dislike', 'this', 'product']\n",
        "sentiment = np.mean([sentiment_lookup.get(w, 0) for w in doc])"
      ],
      "execution_count": null,
      "outputs": []
    },
    {
      "cell_type": "code",
      "metadata": {
        "colab": {
          "base_uri": "https://localhost:8080/"
        },
        "id": "3FUQdaXDExTN",
        "outputId": "655a7d10-5df3-4195-ef61-7ea293960211"
      },
      "source": [
        " np.mean([sentiment_lookup.get(w, 0) for w in article.text])"
      ],
      "execution_count": null,
      "outputs": [
        {
          "output_type": "execute_result",
          "data": {
            "text/plain": [
              "0.0"
            ]
          },
          "metadata": {
            "tags": []
          },
          "execution_count": 260
        }
      ]
    },
    {
      "cell_type": "code",
      "metadata": {
        "id": "AQ-SNEPrFfbX"
      },
      "source": [
        "def score_with_lookup(text):\n",
        "  text = preprocess_review(text)\n",
        "  text = remove_stop_words(text)\n",
        "  score = np.mean([sentiment_lookup.get(w, 0) for w in text.split()])\n",
        "  # arbitrary way to score pos(3)/neg(0)/neutral(2)\n",
        "  if score > 0.05:\n",
        "    return 3\n",
        "  elif score < -0.05:\n",
        "    return 0\n",
        "  else:\n",
        "    return 2"
      ],
      "execution_count": null,
      "outputs": []
    },
    {
      "cell_type": "code",
      "metadata": {
        "id": "g4Cq9skNGZyf"
      },
      "source": [
        "df_news[\"score_w_lookup\"] = df_news[\"Body\"].apply(lambda x: score_with_lookup(x))"
      ],
      "execution_count": null,
      "outputs": []
    },
    {
      "cell_type": "code",
      "metadata": {
        "colab": {
          "base_uri": "https://localhost:8080/"
        },
        "id": "38Pso58pG198",
        "outputId": "191b3163-09f8-4b5b-9f27-c6207edcbbaa"
      },
      "source": [
        "accuracy_score(df_news[\"Sentiment\"], df_news[\"score_w_lookup\"])"
      ],
      "execution_count": null,
      "outputs": [
        {
          "output_type": "execute_result",
          "data": {
            "text/plain": [
              "0.7426078526417839"
            ]
          },
          "metadata": {
            "tags": []
          },
          "execution_count": 310
        }
      ]
    },
    {
      "cell_type": "code",
      "metadata": {
        "colab": {
          "base_uri": "https://localhost:8080/"
        },
        "id": "_u7RnHY4HL0f",
        "outputId": "efb3d929-0312-468c-a1c4-0e6236a4d657"
      },
      "source": [
        "# if you just guess NEUTRAL 100% of the time you basically hit 80% acc\n",
        "# makes these results kind of inconclusive D:\n",
        "df_news[\"score_w_lookup\"].value_counts()"
      ],
      "execution_count": null,
      "outputs": [
        {
          "output_type": "execute_result",
          "data": {
            "text/plain": [
              "2    1754\n",
              "0     251\n",
              "3      58\n",
              "Name: score_w_lookup, dtype: int64"
            ]
          },
          "metadata": {
            "tags": []
          },
          "execution_count": 311
        }
      ]
    },
    {
      "cell_type": "code",
      "metadata": {
        "colab": {
          "base_uri": "https://localhost:8080/"
        },
        "id": "MwXTWfhnHfBW",
        "outputId": "e42f94fa-0b17-4555-80a8-d970dd37ef44"
      },
      "source": [
        "df_news[\"Sentiment\"].value_counts()"
      ],
      "execution_count": null,
      "outputs": [
        {
          "output_type": "execute_result",
          "data": {
            "text/plain": [
              "2    1683\n",
              "0     189\n",
              "3     136\n",
              "1      55\n",
              "Name: Sentiment, dtype: int64"
            ]
          },
          "metadata": {
            "tags": []
          },
          "execution_count": 312
        }
      ]
    },
    {
      "cell_type": "code",
      "metadata": {
        "id": "e7fMgE3pHmTE"
      },
      "source": [
        ""
      ],
      "execution_count": null,
      "outputs": []
    }
  ]
}