{
  "nbformat": 4,
  "nbformat_minor": 0,
  "metadata": {
    "colab": {
      "name": "SentimentModel_v0.2.ipynb",
      "provenance": [],
      "collapsed_sections": []
    },
    "kernelspec": {
      "name": "python3",
      "display_name": "Python 3"
    },
    "language_info": {
      "name": "python"
    },
    "accelerator": "GPU"
  },
  "cells": [
    {
      "cell_type": "markdown",
      "metadata": {
        "id": "zCBFlG_Z8D_v"
      },
      "source": [
        "## This notebook contains:\n",
        "## 1. Sentiment model training with combined dataset from NYT data, Kaggle Tweet Sentiment, and Financial News Sentiment\n",
        "## 2. Export of trained model in TF SavedModel format\n",
        "## 3. Export of trained tokenizer in .pickle format\n",
        "## 4. Loading tokenizer and model for prediction\n",
        "\n",
        "by Theo"
      ]
    },
    {
      "cell_type": "markdown",
      "metadata": {
        "id": "sUvWfleX9cfc"
      },
      "source": [
        "# Model training"
      ]
    },
    {
      "cell_type": "code",
      "metadata": {
        "colab": {
          "base_uri": "https://localhost:8080/"
        },
        "id": "_ChlV1mwbeLG",
        "outputId": "cf0980d1-db12-41aa-fe3e-91d68823168b"
      },
      "source": [
        "from google.colab import drive\n",
        "\n",
        "drive.mount('/content/drive/')"
      ],
      "execution_count": 1,
      "outputs": [
        {
          "output_type": "stream",
          "name": "stdout",
          "text": [
            "Mounted at /content/drive/\n"
          ]
        }
      ]
    },
    {
      "cell_type": "code",
      "metadata": {
        "id": "OTTqImEi4OtJ"
      },
      "source": [
        "import numpy as np\n",
        "import tensorflow as tf\n",
        "from tensorflow import keras\n",
        "import sklearn\n",
        "import matplotlib.pyplot as plt"
      ],
      "execution_count": 23,
      "outputs": []
    },
    {
      "cell_type": "code",
      "metadata": {
        "id": "oQzLYDJKboVt"
      },
      "source": [
        "import os\n",
        "\n",
        "os.chdir('/content/drive/MyDrive/Colab Notebooks/news_data')"
      ],
      "execution_count": 3,
      "outputs": []
    },
    {
      "cell_type": "code",
      "metadata": {
        "id": "45Emt_P5cupZ"
      },
      "source": [
        "import pandas as pd\n",
        "\n",
        "data = pd.read_csv('combined_data.csv')"
      ],
      "execution_count": 4,
      "outputs": []
    },
    {
      "cell_type": "code",
      "metadata": {
        "colab": {
          "base_uri": "https://localhost:8080/"
        },
        "id": "Y1MGANx0c5rN",
        "outputId": "e5e62482-e922-4d1b-a564-8bd264c5d0b2"
      },
      "source": [
        "data[\"Sentiment\"].value_counts()"
      ],
      "execution_count": 5,
      "outputs": [
        {
          "output_type": "execute_result",
          "data": {
            "text/plain": [
              "POSITIVE    801451\n",
              "NEGATIVE    800656\n",
              "NEUTRAL       5582\n",
              "Name: Sentiment, dtype: int64"
            ]
          },
          "metadata": {},
          "execution_count": 5
        }
      ]
    },
    {
      "cell_type": "code",
      "metadata": {
        "id": "3-v7PR4vdNqS"
      },
      "source": [
        "X = data['Body']\n",
        "y = data['Sentiment']"
      ],
      "execution_count": 6,
      "outputs": []
    },
    {
      "cell_type": "code",
      "metadata": {
        "id": "VnYyMAb731fb"
      },
      "source": [
        "y = pd.get_dummies(y)"
      ],
      "execution_count": 7,
      "outputs": []
    },
    {
      "cell_type": "code",
      "metadata": {
        "id": "_VgdzroP37jH"
      },
      "source": [
        "from keras.preprocessing.text import Tokenizer\n",
        "\n",
        "tokenizer = Tokenizer(num_words = 100000, oov_token='<oov>')\n",
        "tokenizer.fit_on_texts(X)"
      ],
      "execution_count": 8,
      "outputs": []
    },
    {
      "cell_type": "code",
      "metadata": {
        "colab": {
          "base_uri": "https://localhost:8080/"
        },
        "id": "BB7kf0ZD6_FK",
        "outputId": "56c7d59f-0ebc-4843-c7d8-7a0207373a71"
      },
      "source": [
        "from keras.preprocessing.sequence import pad_sequences\n",
        "\n",
        "X_preprocessed = tokenizer.texts_to_sequences(X)\n",
        "maxlen = 512\n",
        "X_preprocessed = pad_sequences(X_preprocessed, maxlen=maxlen, padding='pre', truncating='pre')\n",
        "X_preprocessed"
      ],
      "execution_count": 9,
      "outputs": [
        {
          "output_type": "execute_result",
          "data": {
            "text/plain": [
              "array([[    0,     0,     0, ...,  1029,  9816,     3],\n",
              "       [    0,     0,     0, ...,  1280,    11,   489],\n",
              "       [    0,     0,     0, ...,   315,   755,  4146],\n",
              "       ...,\n",
              "       [    0,     0,     0, ...,    15,    12,  2068],\n",
              "       [    0,     0,     0, ..., 14752,     1,     1],\n",
              "       [    0,     0,     0, ...,     1,     1,     1]], dtype=int32)"
            ]
          },
          "metadata": {},
          "execution_count": 9
        }
      ]
    },
    {
      "cell_type": "markdown",
      "metadata": {
        "id": "X1bYgk5K9jjI"
      },
      "source": [
        "Stratified split"
      ]
    },
    {
      "cell_type": "code",
      "metadata": {
        "id": "yQ2WJ3r3778d"
      },
      "source": [
        "from sklearn.model_selection import train_test_split\n",
        "\n",
        "X_train, X_val_test, y_train, y_val_test = train_test_split(X_preprocessed, y, stratify=y, test_size=0.2)\n",
        "X_val, X_test, y_val, y_test = train_test_split(X_val_test, y_val_test, stratify=y_val_test, test_size=0.5)"
      ],
      "execution_count": 12,
      "outputs": []
    },
    {
      "cell_type": "code",
      "metadata": {
        "colab": {
          "base_uri": "https://localhost:8080/"
        },
        "id": "4IJvrZS-9pQN",
        "outputId": "2aaee4ea-0580-4f83-c99e-7bde101bcd63"
      },
      "source": [
        "print(X_train.shape)\n",
        "print(y_train.shape)"
      ],
      "execution_count": 13,
      "outputs": [
        {
          "output_type": "stream",
          "name": "stdout",
          "text": [
            "(1286151, 512)\n",
            "(1286151, 3)\n"
          ]
        }
      ]
    },
    {
      "cell_type": "code",
      "metadata": {
        "id": "NHzJtiPI-AKH"
      },
      "source": [
        "num_outputs = y_train.shape[1]\n",
        "num_tokens = len(tokenizer.word_index) + 1\n",
        "embedding_dim = 100\n",
        "\n",
        "tf.random.set_seed(42)\n",
        "\n",
        "model = keras.models.Sequential([\n",
        "                                 keras.layers.Embedding(input_dim=num_tokens, output_dim=embedding_dim, input_length=maxlen),\n",
        "                                 keras.layers.Bidirectional(keras.layers.GRU(64)),\n",
        "                                 keras.layers.Dense(num_outputs, activation='softmax')])"
      ],
      "execution_count": 16,
      "outputs": []
    },
    {
      "cell_type": "code",
      "metadata": {
        "id": "F9roqtKD-NVL"
      },
      "source": [
        "model.compile(optimizer='Adam', loss='categorical_crossentropy', metrics=['accuracy', 'AUC'])"
      ],
      "execution_count": 20,
      "outputs": []
    },
    {
      "cell_type": "code",
      "metadata": {
        "colab": {
          "base_uri": "https://localhost:8080/"
        },
        "id": "n1ZglB3N_9Q4",
        "outputId": "bb06fe68-0df9-4002-a66b-65db879168ad"
      },
      "source": [
        "history = model.fit(X_train, y_train, epochs=2, batch_size=128, validation_data=(X_val, y_val))"
      ],
      "execution_count": 22,
      "outputs": [
        {
          "output_type": "stream",
          "name": "stdout",
          "text": [
            "Epoch 1/2\n",
            "10049/10049 [==============================] - 713s 71ms/step - loss: 0.4070 - accuracy: 0.8152 - auc: 0.9485 - val_loss: 0.3827 - val_accuracy: 0.8279 - val_auc: 0.9546\n",
            "Epoch 2/2\n",
            "10049/10049 [==============================] - 714s 71ms/step - loss: 0.3432 - accuracy: 0.8495 - auc: 0.9638 - val_loss: 0.3797 - val_accuracy: 0.8299 - val_auc: 0.9554\n"
          ]
        }
      ]
    },
    {
      "cell_type": "code",
      "metadata": {
        "colab": {
          "base_uri": "https://localhost:8080/",
          "height": 295
        },
        "id": "sgRp-dYhAEiv",
        "outputId": "6ef7a4cf-2b0e-4383-88cc-c1d4869e14a2"
      },
      "source": [
        "plt.plot(history.history['loss'])\n",
        "plt.plot(history.history['val_loss'])\n",
        "plt.title('model loss')\n",
        "plt.ylabel('loss')\n",
        "plt.xlabel('epoch')\n",
        "plt.legend(['train', 'test'], loc='upper left')\n",
        "plt.show()"
      ],
      "execution_count": 24,
      "outputs": [
        {
          "output_type": "display_data",
          "data": {
            "image/png": "[encoded data removed]",
            "text/plain": [
              "<Figure size 432x288 with 1 Axes>"
            ]
          },
          "metadata": {
            "needs_background": "light"
          }
        }
      ]
    },
    {
      "cell_type": "code",
      "metadata": {
        "colab": {
          "base_uri": "https://localhost:8080/",
          "height": 295
        },
        "id": "yYqKKEnqGvQG",
        "outputId": "758923c9-0061-4da5-fb6f-bf26dd5b746d"
      },
      "source": [
        "plt.plot(history.history['auc'])\n",
        "plt.plot(history.history['val_auc'])\n",
        "plt.title('model auc')\n",
        "plt.ylabel('auc')\n",
        "plt.xlabel('epoch')\n",
        "plt.legend(['train', 'test'], loc='upper left')\n",
        "plt.show()"
      ],
      "execution_count": 25,
      "outputs": [
        {
          "output_type": "display_data",
          "data": {
            "image/png": "[encoded data removed]",
            "text/plain": [
              "<Figure size 432x288 with 1 Axes>"
            ]
          },
          "metadata": {
            "needs_background": "light"
          }
        }
      ]
    },
    {
      "cell_type": "code",
      "metadata": {
        "colab": {
          "base_uri": "https://localhost:8080/"
        },
        "id": "9FqnU1MaG322",
        "outputId": "1e07c955-3d88-4a33-ba8f-b7787a641e46"
      },
      "source": [
        "from sklearn.metrics import classification_report\n",
        "y_pred = np.argmax(model.predict(X_test), axis=-1)\n",
        "print(classification_report(np.argmax(np.array(y_test), axis=-1), y_pred, target_names=['NEGATIVE', 'NEUTRAL', 'POSITIVE']))"
      ],
      "execution_count": 29,
      "outputs": [
        {
          "output_type": "stream",
          "name": "stdout",
          "text": [
            "              precision    recall  f1-score   support\n",
            "\n",
            "    NEGATIVE       0.81      0.87      0.84     80066\n",
            "     NEUTRAL       0.82      0.85      0.84       558\n",
            "    POSITIVE       0.86      0.79      0.82     80145\n",
            "\n",
            "    accuracy                           0.83    160769\n",
            "   macro avg       0.83      0.84      0.83    160769\n",
            "weighted avg       0.83      0.83      0.83    160769\n",
            "\n"
          ]
        }
      ]
    },
    {
      "cell_type": "markdown",
      "metadata": {
        "id": "WKMoDX-tJgQ0"
      },
      "source": [
        "# Export tokenizer"
      ]
    },
    {
      "cell_type": "code",
      "metadata": {
        "id": "LhVVg1I8JjRu"
      },
      "source": [
        "import pickle\n",
        "\n",
        "with open('tokenizer.pickle', 'wb') as handle:\n",
        "  pickle.dump(tokenizer, handle, protocol=pickle.HIGHEST_PROTOCOL)"
      ],
      "execution_count": 27,
      "outputs": []
    },
    {
      "cell_type": "markdown",
      "metadata": {
        "id": "8juMEOs4Mcma"
      },
      "source": [
        "# Export SavedModel"
      ]
    },
    {
      "cell_type": "code",
      "metadata": {
        "colab": {
          "base_uri": "https://localhost:8080/"
        },
        "id": "sr_qGluuMkTr",
        "outputId": "3744def5-5f42-4234-d536-8ade6aed424d"
      },
      "source": [
        "model.save('sentiment_model_v2')"
      ],
      "execution_count": 30,
      "outputs": [
        {
          "output_type": "stream",
          "name": "stderr",
          "text": [
            "WARNING:absl:Found untraced functions such as gru_cell_1_layer_call_and_return_conditional_losses, gru_cell_1_layer_call_fn, gru_cell_2_layer_call_and_return_conditional_losses, gru_cell_2_layer_call_fn, gru_cell_1_layer_call_fn while saving (showing 5 of 10). These functions will not be directly callable after loading.\n"
          ]
        },
        {
          "output_type": "stream",
          "name": "stdout",
          "text": [
            "INFO:tensorflow:Assets written to: sentiment_model_v2/assets\n"
          ]
        },
        {
          "output_type": "stream",
          "name": "stderr",
          "text": [
            "INFO:tensorflow:Assets written to: sentiment_model_v2/assets\n"
          ]
        }
      ]
    },
    {
      "cell_type": "markdown",
      "metadata": {
        "id": "Q-Ys5nbRNhot"
      },
      "source": [
        "# Load tokenizer and model for prediction"
      ]
    },
    {
      "cell_type": "markdown",
      "metadata": {
        "id": "SpoH-Hk8WFO3"
      },
      "source": [
        "Load tokenizer"
      ]
    },
    {
      "cell_type": "code",
      "metadata": {
        "id": "pjNxZITYNLb0"
      },
      "source": [
        "with open('tokenizer.pickle', 'rb') as handle:\n",
        "  loaded_tokenizer = pickle.load(handle)"
      ],
      "execution_count": 48,
      "outputs": []
    },
    {
      "cell_type": "markdown",
      "metadata": {
        "id": "t9PENE6MWHMb"
      },
      "source": [
        "Load SavedModel"
      ]
    },
    {
      "cell_type": "code",
      "metadata": {
        "id": "jz79lVKqRIyV"
      },
      "source": [
        "loaded_model = keras.models.load_model('sentiment_model_v2')"
      ],
      "execution_count": 49,
      "outputs": []
    },
    {
      "cell_type": "markdown",
      "metadata": {
        "id": "MhsV3i4YWJnX"
      },
      "source": [
        "Sample text"
      ]
    },
    {
      "cell_type": "code",
      "metadata": {
        "id": "-f_i54gdRNpP"
      },
      "source": [
        "sample_text = 'This has been the worst trade deal in the history of trade deals, maybe ever'"
      ],
      "execution_count": 61,
      "outputs": []
    },
    {
      "cell_type": "markdown",
      "metadata": {
        "id": "5lkBbC9wWKt9"
      },
      "source": [
        "Preprocess using tf.keras.tokenizer and tf.keras.pad_sequences\n",
        "\n",
        "maxlen = 512 was used to train model"
      ]
    },
    {
      "cell_type": "code",
      "metadata": {
        "id": "c7_VgVs4R_cY"
      },
      "source": [
        "sample_text = loaded_tokenizer.texts_to_sequences([sample_text])\n",
        "sample_text = pad_sequences(sample_text, maxlen=512, padding='pre', truncating='pre')"
      ],
      "execution_count": 62,
      "outputs": []
    },
    {
      "cell_type": "code",
      "metadata": {
        "id": "CkB7j6I6STG0"
      },
      "source": [
        "sample_prediction = np.argmax(loaded_model.predict(sample_text), axis=-1)[0]\n",
        "sample_predicted_class = ['NEGATIVE', 'NEUTRAL', 'POSITIVE'][sample_prediction]\n",
        "sample_prediction_score = np.max(loaded_model.predict(sample_text))"
      ],
      "execution_count": 73,
      "outputs": []
    },
    {
      "cell_type": "code",
      "metadata": {
        "colab": {
          "base_uri": "https://localhost:8080/"
        },
        "id": "OQh_hFG1TSdY",
        "outputId": "e7fc3068-5f68-4ab1-ff5e-613a06fbab82"
      },
      "source": [
        "print(f'argmax prediction: {sample_prediction}')\n",
        "print(f'predicted class: {sample_predicted_class}')\n",
        "print(f'prediction score: {sample_prediction_score}')"
      ],
      "execution_count": 80,
      "outputs": [
        {
          "output_type": "stream",
          "name": "stdout",
          "text": [
            "argmax prediction: 0\n",
            "predicted class: NEGATIVE\n",
            "prediction score: 0.720095694065094\n"
          ]
        }
      ]
    },
    {
      "cell_type": "code",
      "metadata": {
        "id": "M49SJFWqTTua"
      },
      "source": [
        ""
      ],
      "execution_count": null,
      "outputs": []
    }
  ]
}